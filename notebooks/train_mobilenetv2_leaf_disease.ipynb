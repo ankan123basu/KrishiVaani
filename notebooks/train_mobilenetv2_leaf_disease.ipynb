{
 "cells": [
  {
   "cell_type": "markdown",
   "metadata": {},
   "source": [
    "# MobileNetV2 Leaf Disease Classifier\n",
    "\n",
    "This notebook is for training/fine-tuning a MobileNetV2 model for crop/leaf disease detection.\n",
    "\n",
    "- Place your dataset (images + labels) in the `notebooks/` directory.\n",
    "- Dataset should be in a folder format (e.g., `train/class_name/*.jpg`).\n",
    "- Outputs a PyTorch `.pth` file and TorchServe `.mar` archive.\n",
    "    "
   ]
  },
  {
   "cell_type": "code",
   "execution_count": 6,
   "metadata": {},
   "outputs": [
    {
     "name": "stderr",
     "output_type": "stream",
     "text": [
      "Epoch 1/5: 100%|██████████| 516/516 [18:20<00:00,  2.13s/it, acc=92.6, loss=0.037] \n"
     ]
    },
    {
     "name": "stdout",
     "output_type": "stream",
     "text": [
      "\n",
      "✅ Epoch 1 complete. Loss: 0.2932, Accuracy: 92.61%\n",
      "💾 Saved best model so far!\n"
     ]
    },
    {
     "name": "stderr",
     "output_type": "stream",
     "text": [
      "Epoch 2/5: 100%|██████████| 516/516 [14:34<00:00,  1.70s/it, acc=98.8, loss=0.119]  \n"
     ]
    },
    {
     "name": "stdout",
     "output_type": "stream",
     "text": [
      "\n",
      "✅ Epoch 2 complete. Loss: 0.0461, Accuracy: 98.79%\n",
      "💾 Saved best model so far!\n"
     ]
    },
    {
     "name": "stderr",
     "output_type": "stream",
     "text": [
      "Epoch 3/5: 100%|██████████| 516/516 [17:17<00:00,  2.01s/it, acc=99.2, loss=0.00533]\n"
     ]
    },
    {
     "name": "stdout",
     "output_type": "stream",
     "text": [
      "\n",
      "✅ Epoch 3 complete. Loss: 0.0276, Accuracy: 99.19%\n",
      "💾 Saved best model so far!\n"
     ]
    },
    {
     "name": "stderr",
     "output_type": "stream",
     "text": [
      "Epoch 4/5: 100%|██████████| 516/516 [32:30<00:00,  3.78s/it, acc=99.3, loss=0.00584]   \n"
     ]
    },
    {
     "name": "stdout",
     "output_type": "stream",
     "text": [
      "\n",
      "✅ Epoch 4 complete. Loss: 0.0226, Accuracy: 99.34%\n",
      "💾 Saved best model so far!\n"
     ]
    },
    {
     "name": "stderr",
     "output_type": "stream",
     "text": [
      "Epoch 5/5: 100%|██████████| 516/516 [21:28<00:00,  2.50s/it, acc=99.5, loss=0.0104]   "
     ]
    },
    {
     "name": "stdout",
     "output_type": "stream",
     "text": [
      "\n",
      "✅ Epoch 5 complete. Loss: 0.0179, Accuracy: 99.48%\n",
      "💾 Saved best model so far!\n",
      "🎉 Final model saved.\n"
     ]
    },
    {
     "name": "stderr",
     "output_type": "stream",
     "text": [
      "\n"
     ]
    }
   ],
   "source": [
    "import torch\n",
    "import torchvision\n",
    "from torchvision import datasets, transforms, models\n",
    "from torch.utils.data import DataLoader\n",
    "import os\n",
    "from tqdm import tqdm  # for progress bar\n",
    "\n",
    "# Paths\n",
    "data_dir = '../data/PlantVillage'\n",
    "num_classes = len(os.listdir(os.path.join(data_dir, 'train')))\n",
    "\n",
    "# Transforms\n",
    "train_transforms = transforms.Compose([\n",
    "    transforms.Resize((224,224)),\n",
    "    transforms.ToTensor(),\n",
    "    transforms.Normalize([0.485, 0.456, 0.406], [0.229, 0.224, 0.225])\n",
    "])\n",
    "\n",
    "train_dataset = datasets.ImageFolder(os.path.join(data_dir, 'train'), train_transforms)\n",
    "train_loader = DataLoader(train_dataset, batch_size=32, shuffle=True)\n",
    "\n",
    "# Model\n",
    "model = models.mobilenet_v2(weights='IMAGENET1K_V1')\n",
    "model.classifier[1] = torch.nn.Linear(model.last_channel, num_classes)\n",
    "\n",
    "device = torch.device('cuda' if torch.cuda.is_available() else 'cpu')\n",
    "model = model.to(device)\n",
    "\n",
    "# Loss and Optimizer\n",
    "criterion = torch.nn.CrossEntropyLoss()\n",
    "optimizer = torch.optim.Adam(model.parameters(), lr=1e-4)\n",
    "\n",
    "best_accuracy = 0.0\n",
    "\n",
    "# Training Loop with progress bar and accuracy\n",
    "for epoch in range(5):  # reduce to 5 epochs for faster debug\n",
    "    model.train()\n",
    "    running_loss = 0.0\n",
    "    correct = 0\n",
    "    total = 0\n",
    "\n",
    "    loop = tqdm(train_loader, desc=f\"Epoch {epoch+1}/5\")\n",
    "    for images, labels in loop:\n",
    "        images, labels = images.to(device), labels.to(device)\n",
    "\n",
    "        optimizer.zero_grad()\n",
    "        outputs = model(images)\n",
    "        loss = criterion(outputs, labels)\n",
    "        loss.backward()\n",
    "        optimizer.step()\n",
    "\n",
    "        running_loss += loss.item()\n",
    "\n",
    "        _, predicted = torch.max(outputs.data, 1)\n",
    "        total += labels.size(0)\n",
    "        correct += (predicted == labels).sum().item()\n",
    "\n",
    "        loop.set_postfix(loss=loss.item(), acc=100. * correct / total)\n",
    "\n",
    "    epoch_loss = running_loss / len(train_loader)\n",
    "    epoch_acc = 100. * correct / total\n",
    "    print(f\"\\n✅ Epoch {epoch+1} complete. Loss: {epoch_loss:.4f}, Accuracy: {epoch_acc:.2f}%\")\n",
    "\n",
    "    # Save best model\n",
    "    if epoch_acc > best_accuracy:\n",
    "        best_accuracy = epoch_acc\n",
    "        torch.save(model.state_dict(), 'mobilenetv2_leaf_disease_best.pth')\n",
    "        print(\"💾 Saved best model so far!\")\n",
    "\n",
    "# Save final model\n",
    "torch.save(model.state_dict(), 'mobilenetv2_leaf_disease_final.pth')\n",
    "print(\"🎉 Final model saved.\")\n"
   ]
  },
  {
   "cell_type": "markdown",
   "metadata": {},
   "source": [
    "## TorchServe Model Packaging\n",
    "\n",
    "After training, use the following command to create a TorchServe .mar file:\n",
    "\n",
    "```bash\n",
    "torch-model-archiver --model-name leaf-disease --version 1.0 --serialized-file mobilenetv2_leaf_disease.pth --handler image_classifier --extra-files index_to_name.json --export-path model_store\n",
    "```\n",
    "\n",
    "- `index_to_name.json` should map class indices to disease names.\n",
    "    "
   ]
  }
 ],
 "metadata": {
  "kernelspec": {
   "display_name": "venv",
   "language": "python",
   "name": "python3"
  },
  "language_info": {
   "codemirror_mode": {
    "name": "ipython",
    "version": 3
   },
   "file_extension": ".py",
   "mimetype": "text/x-python",
   "name": "python",
   "nbconvert_exporter": "python",
   "pygments_lexer": "ipython3",
   "version": "3.11.10"
  }
 },
 "nbformat": 4,
 "nbformat_minor": 2
}
